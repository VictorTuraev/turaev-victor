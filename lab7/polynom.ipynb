{
 "cells": [
  {
   "cell_type": "code",
   "execution_count": 11,
   "metadata": {},
   "outputs": [
    {
     "name": "stdout",
     "output_type": "stream",
     "text": [
      "<3, 8, 10>\n"
     ]
    }
   ],
   "source": [
    "class Vector():\n",
    "    def __init__(self, x, y, z):\n",
    "        self.x = x\n",
    "        self.y = y\n",
    "        self.z = z\n",
    "    def __str__(self):\n",
    "        return \"<{}, {}, {}>\".format( self.x, self.y, self.z)\n",
    "    def add(self, other):\n",
    "        return Vector(self.x+other.x, self.y+other.y, self.z+other.z)\n",
    "    def __add__(self, other):\n",
    "        return Vector(self.x+other.x, self.y+other.y, self.z+other.z)\n",
    "    def __matmul__(self, other):\n",
    "        return Vector(self.y*other.z - self.z*other.y, -self.x*other.z + self.z*other.x, self.x*other.y - self.y*other.x)\n",
    "    def __mul__(self, other):\n",
    "        return self.x*other.x + self.y*other.y + self.z*other.z\n",
    "v1=Vector(1, 2, 3)\n",
    "v2=Vector(2, 6, 7)\n",
    "print(v1+v2)"
   ]
  },
  {
   "cell_type": "code",
   "execution_count": 12,
   "metadata": {},
   "outputs": [
    {
     "name": "stdout",
     "output_type": "stream",
     "text": [
      "[2, 7, 10, 8]\n"
     ]
    }
   ],
   "source": [
    "class Polynomial():\n",
    "    def __init__(self, data_init):\n",
    "        if isinstance(data_init, dict):\n",
    "            self._data=dict(data_init)\n",
    "        else:\n",
    "            self._data=list(data_init)\n",
    "    \n",
    "    def __setitem__(self, key, value):\n",
    "        self._data[key] = value\n",
    "    \n",
    "    def __getitem__(self, key):\n",
    "        if key in self._data:\n",
    "            return self._data[key]\n",
    "        else:\n",
    "            return 0\n",
    "    def __delitem__(self, key):\n",
    "        self._data[key]=0\n",
    "    \n",
    "    \n",
    "    def __add__(self, other):    \n",
    "        pol = []\n",
    "        for i in range(max(len(self._data), len(other._data))):\n",
    "                if i<len(self._data) and i<len(other._data):\n",
    "                    pol.append(self._data[i] + other._data[i]) \n",
    "                elif i>=len(self._data):\n",
    "                    pol.append(other._data[i])\n",
    "                elif i>=len(other._data[i]):\n",
    "                    pol.append(self._data[i])  \n",
    "        return pol\n",
    "    \n",
    "    def __sub__(self, other):\n",
    "        pol = []\n",
    "        for i in range(max(len(self._data), len(other._data))):\n",
    "                if i<len(self._data) and i<len(other._data):\n",
    "                    pol.append(self._data[i] - other._data[i]) \n",
    "                elif i>=len(self._data):\n",
    "                    pol.append(-other._data[i])\n",
    "                elif i>=len(other._data[i]):\n",
    "                    pol.append(self._data[i])\n",
    "        return pol\n",
    "    \n",
    "    def __neg__(self):\n",
    "        pol = []\n",
    "        for i in range(len(self._data)):\n",
    "            pol._data[i] = -self._data[i]\n",
    "        return pol\n",
    "    def __mul__(self, other):\n",
    "        pol=[]\n",
    "        for i in range(len(self._data)+len(other._data)-1):\n",
    "            pol.append(0)\n",
    "        for k in range(len(self._data)):\n",
    "            for g in range(len(other._data)):\n",
    "                pol[g+k]+=self._data[k]*other._data[g]\n",
    "        return pol\n",
    "            \n",
    "    \n",
    "    def __str__(self):\n",
    "        return str(self._data)\n",
    "l1=Polynomial((1, 2))\n",
    "l2=Polynomial((2, 3, 4))\n",
    "l3=l1*l2\n",
    "print(l3)"
   ]
  },
  {
   "cell_type": "code",
   "execution_count": 13,
   "metadata": {},
   "outputs": [
    {
     "name": "stdout",
     "output_type": "stream",
     "text": [
      "[3, 5, 4]\n"
     ]
    }
   ],
   "source": [
    "l1=Polynomial((1, 2))\n",
    "l2=Polynomial((2, 3, 4))\n",
    "l3=l1+l2\n",
    "print(l3)"
   ]
  },
  {
   "cell_type": "code",
   "execution_count": null,
   "metadata": {},
   "outputs": [],
   "source": []
  }
 ],
 "metadata": {
  "kernelspec": {
   "display_name": "Python 3",
   "language": "python",
   "name": "python3"
  },
  "language_info": {
   "codemirror_mode": {
    "name": "ipython",
    "version": 3
   },
   "file_extension": ".py",
   "mimetype": "text/x-python",
   "name": "python",
   "nbconvert_exporter": "python",
   "pygments_lexer": "ipython3",
   "version": "3.7.3"
  }
 },
 "nbformat": 4,
 "nbformat_minor": 2
}
